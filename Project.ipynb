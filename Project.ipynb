{
 "cells": [
  {
   "cell_type": "code",
   "execution_count": 1,
   "metadata": {},
   "outputs": [
    {
     "name": "stderr",
     "output_type": "stream",
     "text": [
      "[nltk_data] Downloading package vader_lexicon to\n",
      "[nltk_data]     /Users/mariagiustiniano/nltk_data...\n",
      "[nltk_data]   Package vader_lexicon is already up-to-date!\n"
     ]
    },
    {
     "data": {
      "text/plain": [
       "True"
      ]
     },
     "execution_count": 1,
     "metadata": {},
     "output_type": "execute_result"
    }
   ],
   "source": [
    "import re\n",
    "import os\n",
    "import pandas as pd\n",
    "import matplotlib.pyplot as plt\n",
    "import numpy as np\n",
    "from nltk.sentiment.vader import SentimentIntensityAnalyzer\n",
    "import nltk\n",
    "nltk.download('vader_lexicon')"
   ]
  },
  {
   "cell_type": "code",
   "execution_count": null,
   "metadata": {},
   "outputs": [],
   "source": [
    "!pip install kaggle\n",
    "!mkdir ~/.kaggle\n",
    "!mv /Users/mariagiustiniano/Downloads/kaggle.json  ~/.kaggle/kaggle.json\n",
    "!chmod 600 ~/.kaggle/kaggle.json\n",
    "!kaggle datasets download aashita/nyt-comments"
   ]
  },
  {
   "cell_type": "code",
   "execution_count": null,
   "metadata": {},
   "outputs": [],
   "source": [
    "!unzip 'nyt-comments' -d /Users/mariagiustiniano/com_1"
   ]
  },
  {
   "cell_type": "code",
   "execution_count": null,
   "metadata": {},
   "outputs": [],
   "source": [
    "folder = '/Users/mariagiustiniano/com_1'\n",
    "filelist = [[file.split('.')[0],os.path.join(folder,file)] for file in os.listdir('/Users/mariagiustiniano/com_1')]\n",
    "\n",
    "db = {}\n",
    "db_a = {}\n",
    "\n",
    "for file in filelist:\n",
    "    if file[0].split('.')[0].startswith('C'):\n",
    "        db[file[0].split('.')[0]] = pd.read_csv(file[1], low_memory=False)\n",
    "    else:\n",
    "        db_a[file[0].split('.')[0]] = pd.read_csv(file[1], low_memory=False)"
   ]
  },
  {
   "cell_type": "code",
   "execution_count": 4,
   "metadata": {},
   "outputs": [],
   "source": [
    "keys= list(db.keys())\n",
    "keys_a=list(db_a.keys())"
   ]
  },
  {
   "cell_type": "code",
   "execution_count": null,
   "metadata": {},
   "outputs": [],
   "source": [
    "sia= SentimentIntensityAnalyzer()\n",
    "for key in keys:\n",
    "    db.get(key)['editorsSelection']= db.get(key)['editorsSelection'].replace([True,False],[1,0])\n",
    "    db.get(key)['replyCount']= db.get(key)['replyCount'].astype(float).apply(abs)\n",
    "    db.get(key)['recommendations']= db.get(key)['recommendations'].astype(float).apply(abs)\n",
    "    db.get(key)['compound']= db.get(key)['commentBody'].apply(lambda x: sia.polarity_scores(x)['compound'])"
   ]
  },
  {
   "cell_type": "code",
   "execution_count": 5,
   "metadata": {},
   "outputs": [],
   "source": [
    "def norm(x):\n",
    "    s= (x-min(x))/(max(x)-min(x))\n",
    "    return s"
   ]
  },
  {
   "cell_type": "code",
   "execution_count": 6,
   "metadata": {},
   "outputs": [],
   "source": [
    "def weight(row):\n",
    "    \"\"\"Return a weight for each commentID\"\"\"\n",
    "    x= row['editorsSelection']\n",
    "    y= row['normRecommendations']\n",
    "    z= row['normReplyCount']\n",
    "    return x+y+z"
   ]
  },
  {
   "cell_type": "code",
   "execution_count": 7,
   "metadata": {},
   "outputs": [],
   "source": [
    "for key in keys:\n",
    "    db[key]['normReplyCount']= norm(db[key]['replyCount'])\n",
    "    db[key]['normRecommendations']= norm(db[key]['recommendations'])\n",
    "    db[key]['weight']= db[key][['editorsSelection','normRecommendations','normReplyCount']].sum(axis=1)"
   ]
  },
  {
   "cell_type": "code",
   "execution_count": 8,
   "metadata": {},
   "outputs": [],
   "source": [
    "Scores_comm= {}\n",
    "for key in keys:\n",
    "    for i in list(range(db[key].shape[0])): \n",
    "        Scores_comm[db[key].commentID[i]] = db[key].weight[i]"
   ]
  },
  {
   "cell_type": "code",
   "execution_count": 9,
   "metadata": {},
   "outputs": [],
   "source": [
    "#Update comments\n",
    "Rep_score={}\n",
    "for key in keys:\n",
    "    Rep_score[key]= pd.DataFrame({'score_std': db[key].groupby(['inReplyTo'])['weight'].std().fillna(0)}).iloc[1:].reset_index()\n",
    "    Rep_score[key]['sd']= Rep_score[key].inReplyTo.map(db[key].groupby(['inReplyTo'])['compound'].std().fillna(0))\n",
    "    Rep_score[key]['score']= Rep_score[key][['score_std','sd']].sum(axis=1)\n",
    "    for i in Rep_score[key].inReplyTo:\n",
    "        Scores_comm[i]= Scores_comm[i]+ Rep_score[key].score[Rep_score[key].inReplyTo == i].values[0]"
   ]
  },
  {
   "cell_type": "code",
   "execution_count": 10,
   "metadata": {},
   "outputs": [],
   "source": [
    "articles={} \n",
    "Score_art={}\n",
    "for key in keys:\n",
    "    articles[key]= pd.DataFrame({'list_comments' : db[key][db[key].commentType=='comment'].groupby('articleID')['commentID'].apply(list)}).reset_index()\n",
    "    articles[key]['sd']= articles[key].articleID.map(db[key][db[key].commentType=='comment'].groupby(['articleID'])['compound'].std().fillna(0))\n",
    "    for j in list(range(articles[key].shape[0])):\n",
    "        Score_art[articles[key].articleID[j]]= np.std([Scores_comm[comment] for comment in articles[key].list_comments[j]])+articles[key].sd[j]"
   ]
  },
  {
   "cell_type": "code",
   "execution_count": 11,
   "metadata": {},
   "outputs": [],
   "source": [
    "topic={}\n",
    "mean={}\n",
    "for key in keys:\n",
    "    topic[key]= pd.DataFrame({'art_ID': db[key].groupby('sectionName')['articleID'].unique().apply(list)}).reset_index()\n",
    "    mean[key]=[]\n",
    "    for i in list(range(topic[key].shape[0])):\n",
    "        mean[key].append(np.mean([Score_art[k] for k in topic[key].art_ID[i]]))\n",
    "    topic[key]['rate_succ']= mean[key]\n",
    "    topic[key].sort_values(by='rate_succ',inplace=True, ascending=False)"
   ]
  }
 ],
 "metadata": {
  "kernelspec": {
   "display_name": "text-mining",
   "language": "python",
   "name": "text-mining"
  },
  "language_info": {
   "codemirror_mode": {
    "name": "ipython",
    "version": 3
   },
   "file_extension": ".py",
   "mimetype": "text/x-python",
   "name": "python",
   "nbconvert_exporter": "python",
   "pygments_lexer": "ipython3",
   "version": "3.7.6"
  }
 },
 "nbformat": 4,
 "nbformat_minor": 4
}
